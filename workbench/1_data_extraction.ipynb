{
 "cells": [
  {
   "cell_type": "markdown",
   "metadata": {},
   "source": [
    "## `Flight Delay Prediction`\n",
    "### **Part 1:** Data Extraction\n",
    "\n",
    "Ali Bahrami\n"
   ]
  },
  {
   "cell_type": "code",
   "execution_count": 1,
   "metadata": {},
   "outputs": [],
   "source": [
    "# import libraries\n",
    "import numpy as np\n",
    "import pandas as pd\n",
    "import psycopg2\n",
    "import config as cfg\n"
   ]
  },
  {
   "cell_type": "markdown",
   "metadata": {},
   "source": [
    "## Extract the Data"
   ]
  },
  {
   "cell_type": "code",
   "execution_count": 2,
   "metadata": {},
   "outputs": [],
   "source": [
    "# Connect to the postgresql database.\n",
    "# The database credentials are stored separately in config.py to avoid sensitive data from being uploaded to github\n",
    "user = cfg.database['user']\n",
    "password = cfg.database['password']\n",
    "host = cfg.database['host']\n",
    "port = cfg.database['port']\n",
    "database = cfg.database['database']\n",
    "\n",
    "conn = psycopg2.connect(user = user,\n",
    "                        password = password,\n",
    "                        host = host,\n",
    "                        port = port,\n",
    "                        database = database)"
   ]
  },
  {
   "cell_type": "code",
   "execution_count": 15,
   "metadata": {},
   "outputs": [
    {
     "data": {
      "text/plain": [
       "(200000, 42)"
      ]
     },
     "execution_count": 15,
     "metadata": {},
     "output_type": "execute_result"
    }
   ],
   "source": [
    "query = \"select * from flights ORDER BY RANDOM() LIMIT 200000\"\n",
    "\n",
    "df_flights = pd.read_sql(sql=query ,con=conn)\n",
    "df_flights.shape"
   ]
  },
  {
   "cell_type": "code",
   "execution_count": 16,
   "metadata": {},
   "outputs": [
    {
     "data": {
      "text/plain": [
       "(200000, 38)"
      ]
     },
     "execution_count": 16,
     "metadata": {},
     "output_type": "execute_result"
    }
   ],
   "source": [
    "query = \"select * from passengers ORDER BY RANDOM() LIMIT 200000\"\n",
    "\n",
    "df_passengers = pd.read_sql(sql=query ,con=conn)\n",
    "df_passengers.shape"
   ]
  },
  {
   "cell_type": "code",
   "execution_count": 17,
   "metadata": {},
   "outputs": [
    {
     "data": {
      "text/plain": [
       "(3035, 25)"
      ]
     },
     "execution_count": 17,
     "metadata": {},
     "output_type": "execute_result"
    }
   ],
   "source": [
    "query = \"select * from fuel_comsumption\"\n",
    "\n",
    "df_fuel = pd.read_sql(sql=query ,con=conn)\n",
    "df_fuel.shape"
   ]
  },
  {
   "cell_type": "code",
   "execution_count": 3,
   "metadata": {},
   "outputs": [
    {
     "data": {
      "text/plain": [
       "(660556, 20)"
      ]
     },
     "execution_count": 3,
     "metadata": {},
     "output_type": "execute_result"
    }
   ],
   "source": [
    "query = \"select * from flights_test\"\n",
    "\n",
    "df_flights_test = pd.read_sql(sql=query ,con=conn)\n",
    "df_flights_test.shape"
   ]
  },
  {
   "cell_type": "markdown",
   "metadata": {},
   "source": [
    "You are required to predict delays on **out of sample** data from **first 7 days (1st-7th) of January 2020** and to share the file with LighthouseLabs.\n",
    "\n",
    "Sample submission can be found in the file **_sample_submission.csv_**"
   ]
  },
  {
   "cell_type": "code",
   "execution_count": 4,
   "metadata": {},
   "outputs": [
    {
     "data": {
      "text/plain": [
       "Index(['fl_date', 'mkt_unique_carrier', 'branded_code_share', 'mkt_carrier',\n",
       "       'mkt_carrier_fl_num', 'op_unique_carrier', 'tail_num',\n",
       "       'op_carrier_fl_num', 'origin_airport_id', 'origin', 'origin_city_name',\n",
       "       'dest_airport_id', 'dest', 'dest_city_name', 'crs_dep_time',\n",
       "       'crs_arr_time', 'dup', 'crs_elapsed_time', 'flights', 'distance'],\n",
       "      dtype='object')"
      ]
     },
     "execution_count": 4,
     "metadata": {},
     "output_type": "execute_result"
    }
   ],
   "source": [
    "df_flights_test.columns"
   ]
  },
  {
   "cell_type": "code",
   "execution_count": 5,
   "metadata": {},
   "outputs": [
    {
     "name": "stdout",
     "output_type": "stream",
     "text": [
      "2020-01-01 00:00:00\n",
      "2020-01-31 00:00:00\n"
     ]
    }
   ],
   "source": [
    "print(min(df_flights_test.fl_date))\n",
    "print(max(df_flights_test.fl_date))"
   ]
  },
  {
   "cell_type": "code",
   "execution_count": 6,
   "metadata": {},
   "outputs": [
    {
     "data": {
      "text/html": [
       "<div>\n",
       "<style scoped>\n",
       "    .dataframe tbody tr th:only-of-type {\n",
       "        vertical-align: middle;\n",
       "    }\n",
       "\n",
       "    .dataframe tbody tr th {\n",
       "        vertical-align: top;\n",
       "    }\n",
       "\n",
       "    .dataframe thead th {\n",
       "        text-align: right;\n",
       "    }\n",
       "</style>\n",
       "<table border=\"1\" class=\"dataframe\">\n",
       "  <thead>\n",
       "    <tr style=\"text-align: right;\">\n",
       "      <th></th>\n",
       "      <th>fl_date</th>\n",
       "      <th>mkt_unique_carrier</th>\n",
       "      <th>branded_code_share</th>\n",
       "      <th>mkt_carrier</th>\n",
       "      <th>mkt_carrier_fl_num</th>\n",
       "      <th>op_unique_carrier</th>\n",
       "      <th>tail_num</th>\n",
       "      <th>op_carrier_fl_num</th>\n",
       "      <th>origin_airport_id</th>\n",
       "      <th>origin</th>\n",
       "      <th>origin_city_name</th>\n",
       "      <th>dest_airport_id</th>\n",
       "      <th>dest</th>\n",
       "      <th>dest_city_name</th>\n",
       "      <th>crs_dep_time</th>\n",
       "      <th>crs_arr_time</th>\n",
       "      <th>dup</th>\n",
       "      <th>crs_elapsed_time</th>\n",
       "      <th>flights</th>\n",
       "      <th>distance</th>\n",
       "    </tr>\n",
       "  </thead>\n",
       "  <tbody>\n",
       "    <tr>\n",
       "      <th>0</th>\n",
       "      <td>2020-01-01</td>\n",
       "      <td>WN</td>\n",
       "      <td>WN</td>\n",
       "      <td>WN</td>\n",
       "      <td>5888</td>\n",
       "      <td>WN</td>\n",
       "      <td>N951WN</td>\n",
       "      <td>5888</td>\n",
       "      <td>13891</td>\n",
       "      <td>ONT</td>\n",
       "      <td>Ontario, CA</td>\n",
       "      <td>14771</td>\n",
       "      <td>SFO</td>\n",
       "      <td>San Francisco, CA</td>\n",
       "      <td>1810</td>\n",
       "      <td>1945</td>\n",
       "      <td>N</td>\n",
       "      <td>95</td>\n",
       "      <td>1</td>\n",
       "      <td>363</td>\n",
       "    </tr>\n",
       "    <tr>\n",
       "      <th>1</th>\n",
       "      <td>2020-01-01</td>\n",
       "      <td>WN</td>\n",
       "      <td>WN</td>\n",
       "      <td>WN</td>\n",
       "      <td>6276</td>\n",
       "      <td>WN</td>\n",
       "      <td>N467WN</td>\n",
       "      <td>6276</td>\n",
       "      <td>13891</td>\n",
       "      <td>ONT</td>\n",
       "      <td>Ontario, CA</td>\n",
       "      <td>14771</td>\n",
       "      <td>SFO</td>\n",
       "      <td>San Francisco, CA</td>\n",
       "      <td>1150</td>\n",
       "      <td>1320</td>\n",
       "      <td>N</td>\n",
       "      <td>90</td>\n",
       "      <td>1</td>\n",
       "      <td>363</td>\n",
       "    </tr>\n",
       "    <tr>\n",
       "      <th>2</th>\n",
       "      <td>2020-01-01</td>\n",
       "      <td>WN</td>\n",
       "      <td>WN</td>\n",
       "      <td>WN</td>\n",
       "      <td>4598</td>\n",
       "      <td>WN</td>\n",
       "      <td>N7885A</td>\n",
       "      <td>4598</td>\n",
       "      <td>13891</td>\n",
       "      <td>ONT</td>\n",
       "      <td>Ontario, CA</td>\n",
       "      <td>14831</td>\n",
       "      <td>SJC</td>\n",
       "      <td>San Jose, CA</td>\n",
       "      <td>2020</td>\n",
       "      <td>2130</td>\n",
       "      <td>N</td>\n",
       "      <td>70</td>\n",
       "      <td>1</td>\n",
       "      <td>333</td>\n",
       "    </tr>\n",
       "    <tr>\n",
       "      <th>3</th>\n",
       "      <td>2020-01-01</td>\n",
       "      <td>WN</td>\n",
       "      <td>WN</td>\n",
       "      <td>WN</td>\n",
       "      <td>4761</td>\n",
       "      <td>WN</td>\n",
       "      <td>N551WN</td>\n",
       "      <td>4761</td>\n",
       "      <td>13891</td>\n",
       "      <td>ONT</td>\n",
       "      <td>Ontario, CA</td>\n",
       "      <td>14831</td>\n",
       "      <td>SJC</td>\n",
       "      <td>San Jose, CA</td>\n",
       "      <td>1340</td>\n",
       "      <td>1455</td>\n",
       "      <td>N</td>\n",
       "      <td>75</td>\n",
       "      <td>1</td>\n",
       "      <td>333</td>\n",
       "    </tr>\n",
       "    <tr>\n",
       "      <th>4</th>\n",
       "      <td>2020-01-01</td>\n",
       "      <td>WN</td>\n",
       "      <td>WN</td>\n",
       "      <td>WN</td>\n",
       "      <td>5162</td>\n",
       "      <td>WN</td>\n",
       "      <td>N968WN</td>\n",
       "      <td>5162</td>\n",
       "      <td>13891</td>\n",
       "      <td>ONT</td>\n",
       "      <td>Ontario, CA</td>\n",
       "      <td>14831</td>\n",
       "      <td>SJC</td>\n",
       "      <td>San Jose, CA</td>\n",
       "      <td>915</td>\n",
       "      <td>1035</td>\n",
       "      <td>N</td>\n",
       "      <td>80</td>\n",
       "      <td>1</td>\n",
       "      <td>333</td>\n",
       "    </tr>\n",
       "    <tr>\n",
       "      <th>...</th>\n",
       "      <td>...</td>\n",
       "      <td>...</td>\n",
       "      <td>...</td>\n",
       "      <td>...</td>\n",
       "      <td>...</td>\n",
       "      <td>...</td>\n",
       "      <td>...</td>\n",
       "      <td>...</td>\n",
       "      <td>...</td>\n",
       "      <td>...</td>\n",
       "      <td>...</td>\n",
       "      <td>...</td>\n",
       "      <td>...</td>\n",
       "      <td>...</td>\n",
       "      <td>...</td>\n",
       "      <td>...</td>\n",
       "      <td>...</td>\n",
       "      <td>...</td>\n",
       "      <td>...</td>\n",
       "      <td>...</td>\n",
       "    </tr>\n",
       "    <tr>\n",
       "      <th>150618</th>\n",
       "      <td>2020-01-07</td>\n",
       "      <td>DL</td>\n",
       "      <td>DL_CODESHARE</td>\n",
       "      <td>DL</td>\n",
       "      <td>4813</td>\n",
       "      <td>9E</td>\n",
       "      <td>N605LR</td>\n",
       "      <td>4813</td>\n",
       "      <td>11433</td>\n",
       "      <td>DTW</td>\n",
       "      <td>Detroit, MI</td>\n",
       "      <td>12478</td>\n",
       "      <td>JFK</td>\n",
       "      <td>New York, NY</td>\n",
       "      <td>1755</td>\n",
       "      <td>1952</td>\n",
       "      <td>N</td>\n",
       "      <td>117</td>\n",
       "      <td>1</td>\n",
       "      <td>509</td>\n",
       "    </tr>\n",
       "    <tr>\n",
       "      <th>150619</th>\n",
       "      <td>2020-01-07</td>\n",
       "      <td>DL</td>\n",
       "      <td>DL_CODESHARE</td>\n",
       "      <td>DL</td>\n",
       "      <td>4814</td>\n",
       "      <td>9E</td>\n",
       "      <td>N919XJ</td>\n",
       "      <td>4814</td>\n",
       "      <td>11996</td>\n",
       "      <td>GSP</td>\n",
       "      <td>Greer, SC</td>\n",
       "      <td>12953</td>\n",
       "      <td>LGA</td>\n",
       "      <td>New York, NY</td>\n",
       "      <td>600</td>\n",
       "      <td>759</td>\n",
       "      <td>N</td>\n",
       "      <td>119</td>\n",
       "      <td>1</td>\n",
       "      <td>610</td>\n",
       "    </tr>\n",
       "    <tr>\n",
       "      <th>150620</th>\n",
       "      <td>2020-01-07</td>\n",
       "      <td>DL</td>\n",
       "      <td>DL_CODESHARE</td>\n",
       "      <td>DL</td>\n",
       "      <td>4815</td>\n",
       "      <td>9E</td>\n",
       "      <td>N936XJ</td>\n",
       "      <td>4815</td>\n",
       "      <td>10397</td>\n",
       "      <td>ATL</td>\n",
       "      <td>Atlanta, GA</td>\n",
       "      <td>15919</td>\n",
       "      <td>XNA</td>\n",
       "      <td>Fayetteville, AR</td>\n",
       "      <td>1715</td>\n",
       "      <td>1816</td>\n",
       "      <td>N</td>\n",
       "      <td>121</td>\n",
       "      <td>1</td>\n",
       "      <td>589</td>\n",
       "    </tr>\n",
       "    <tr>\n",
       "      <th>150621</th>\n",
       "      <td>2020-01-07</td>\n",
       "      <td>DL</td>\n",
       "      <td>DL_CODESHARE</td>\n",
       "      <td>DL</td>\n",
       "      <td>4815</td>\n",
       "      <td>9E</td>\n",
       "      <td>N936XJ</td>\n",
       "      <td>4815</td>\n",
       "      <td>15919</td>\n",
       "      <td>XNA</td>\n",
       "      <td>Fayetteville, AR</td>\n",
       "      <td>10397</td>\n",
       "      <td>ATL</td>\n",
       "      <td>Atlanta, GA</td>\n",
       "      <td>1851</td>\n",
       "      <td>2145</td>\n",
       "      <td>N</td>\n",
       "      <td>114</td>\n",
       "      <td>1</td>\n",
       "      <td>589</td>\n",
       "    </tr>\n",
       "    <tr>\n",
       "      <th>150622</th>\n",
       "      <td>2020-01-07</td>\n",
       "      <td>DL</td>\n",
       "      <td>DL_CODESHARE</td>\n",
       "      <td>DL</td>\n",
       "      <td>4816</td>\n",
       "      <td>9E</td>\n",
       "      <td>N917XJ</td>\n",
       "      <td>4816</td>\n",
       "      <td>14321</td>\n",
       "      <td>PWM</td>\n",
       "      <td>Portland, ME</td>\n",
       "      <td>12953</td>\n",
       "      <td>LGA</td>\n",
       "      <td>New York, NY</td>\n",
       "      <td>600</td>\n",
       "      <td>741</td>\n",
       "      <td>N</td>\n",
       "      <td>101</td>\n",
       "      <td>1</td>\n",
       "      <td>269</td>\n",
       "    </tr>\n",
       "  </tbody>\n",
       "</table>\n",
       "<p>150623 rows × 20 columns</p>\n",
       "</div>"
      ],
      "text/plain": [
       "          fl_date mkt_unique_carrier branded_code_share mkt_carrier  \\\n",
       "0      2020-01-01                 WN                 WN          WN   \n",
       "1      2020-01-01                 WN                 WN          WN   \n",
       "2      2020-01-01                 WN                 WN          WN   \n",
       "3      2020-01-01                 WN                 WN          WN   \n",
       "4      2020-01-01                 WN                 WN          WN   \n",
       "...           ...                ...                ...         ...   \n",
       "150618 2020-01-07                 DL       DL_CODESHARE          DL   \n",
       "150619 2020-01-07                 DL       DL_CODESHARE          DL   \n",
       "150620 2020-01-07                 DL       DL_CODESHARE          DL   \n",
       "150621 2020-01-07                 DL       DL_CODESHARE          DL   \n",
       "150622 2020-01-07                 DL       DL_CODESHARE          DL   \n",
       "\n",
       "        mkt_carrier_fl_num op_unique_carrier tail_num  op_carrier_fl_num  \\\n",
       "0                     5888                WN   N951WN               5888   \n",
       "1                     6276                WN   N467WN               6276   \n",
       "2                     4598                WN   N7885A               4598   \n",
       "3                     4761                WN   N551WN               4761   \n",
       "4                     5162                WN   N968WN               5162   \n",
       "...                    ...               ...      ...                ...   \n",
       "150618                4813                9E   N605LR               4813   \n",
       "150619                4814                9E   N919XJ               4814   \n",
       "150620                4815                9E   N936XJ               4815   \n",
       "150621                4815                9E   N936XJ               4815   \n",
       "150622                4816                9E   N917XJ               4816   \n",
       "\n",
       "        origin_airport_id origin  origin_city_name  dest_airport_id dest  \\\n",
       "0                   13891    ONT       Ontario, CA            14771  SFO   \n",
       "1                   13891    ONT       Ontario, CA            14771  SFO   \n",
       "2                   13891    ONT       Ontario, CA            14831  SJC   \n",
       "3                   13891    ONT       Ontario, CA            14831  SJC   \n",
       "4                   13891    ONT       Ontario, CA            14831  SJC   \n",
       "...                   ...    ...               ...              ...  ...   \n",
       "150618              11433    DTW       Detroit, MI            12478  JFK   \n",
       "150619              11996    GSP         Greer, SC            12953  LGA   \n",
       "150620              10397    ATL       Atlanta, GA            15919  XNA   \n",
       "150621              15919    XNA  Fayetteville, AR            10397  ATL   \n",
       "150622              14321    PWM      Portland, ME            12953  LGA   \n",
       "\n",
       "           dest_city_name  crs_dep_time  crs_arr_time dup  crs_elapsed_time  \\\n",
       "0       San Francisco, CA          1810          1945   N                95   \n",
       "1       San Francisco, CA          1150          1320   N                90   \n",
       "2            San Jose, CA          2020          2130   N                70   \n",
       "3            San Jose, CA          1340          1455   N                75   \n",
       "4            San Jose, CA           915          1035   N                80   \n",
       "...                   ...           ...           ...  ..               ...   \n",
       "150618       New York, NY          1755          1952   N               117   \n",
       "150619       New York, NY           600           759   N               119   \n",
       "150620   Fayetteville, AR          1715          1816   N               121   \n",
       "150621        Atlanta, GA          1851          2145   N               114   \n",
       "150622       New York, NY           600           741   N               101   \n",
       "\n",
       "        flights  distance  \n",
       "0             1       363  \n",
       "1             1       363  \n",
       "2             1       333  \n",
       "3             1       333  \n",
       "4             1       333  \n",
       "...         ...       ...  \n",
       "150618        1       509  \n",
       "150619        1       610  \n",
       "150620        1       589  \n",
       "150621        1       589  \n",
       "150622        1       269  \n",
       "\n",
       "[150623 rows x 20 columns]"
      ]
     },
     "execution_count": 6,
     "metadata": {},
     "output_type": "execute_result"
    }
   ],
   "source": [
    "df_flights_test = df_flights_test[df_flights_test.fl_date < '2020-01-08 00:00:00']\n",
    "df_flights_test"
   ]
  },
  {
   "cell_type": "code",
   "execution_count": 23,
   "metadata": {},
   "outputs": [],
   "source": [
    "# Export the files into csv\n",
    "df_flights.to_csv(\"data/raw/flights_raw.csv\", index=False)\n",
    "df_flights_test.to_csv(\"data/flights_test.csv\", index=False)\n",
    "df_passengers.to_csv(\"data/raw/passengers_raw.csv\", index=False)\n",
    "df_fuel.to_csv(\"data/raw/fuel_raw.csv\", index=False)"
   ]
  },
  {
   "cell_type": "code",
   "execution_count": 7,
   "metadata": {},
   "outputs": [],
   "source": [
    "df_flights_test.to_csv(\"data/flights_test.csv\", index=False)"
   ]
  },
  {
   "cell_type": "code",
   "execution_count": 5,
   "metadata": {},
   "outputs": [],
   "source": [
    "# Close the cursor and connection to so the server can allocate bandwidth to other requests\n",
    "conn.close()"
   ]
  }
 ],
 "metadata": {
  "kernelspec": {
   "display_name": "Python 3",
   "language": "python",
   "name": "python3"
  },
  "language_info": {
   "codemirror_mode": {
    "name": "ipython",
    "version": 3
   },
   "file_extension": ".py",
   "mimetype": "text/x-python",
   "name": "python",
   "nbconvert_exporter": "python",
   "pygments_lexer": "ipython3",
   "version": "3.8.12"
  },
  "toc": {
   "base_numbering": 1,
   "nav_menu": {},
   "number_sections": true,
   "sideBar": true,
   "skip_h1_title": false,
   "title_cell": "Table of Contents",
   "title_sidebar": "Contents",
   "toc_cell": false,
   "toc_position": {},
   "toc_section_display": true,
   "toc_window_display": false
  },
  "varInspector": {
   "cols": {
    "lenName": 16,
    "lenType": 16,
    "lenVar": 40
   },
   "kernels_config": {
    "python": {
     "delete_cmd_postfix": "",
     "delete_cmd_prefix": "del ",
     "library": "var_list.py",
     "varRefreshCmd": "print(var_dic_list())"
    },
    "r": {
     "delete_cmd_postfix": ") ",
     "delete_cmd_prefix": "rm(",
     "library": "var_list.r",
     "varRefreshCmd": "cat(var_dic_list()) "
    }
   },
   "types_to_exclude": [
    "module",
    "function",
    "builtin_function_or_method",
    "instance",
    "_Feature"
   ],
   "window_display": false
  }
 },
 "nbformat": 4,
 "nbformat_minor": 4
}
